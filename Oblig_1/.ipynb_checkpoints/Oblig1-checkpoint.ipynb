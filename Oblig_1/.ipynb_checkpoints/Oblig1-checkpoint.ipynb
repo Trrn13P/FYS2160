{
 "cells": [
  {
   "cell_type": "markdown",
   "metadata": {},
   "source": [
    "FYS2160 Oblig 1, Tor-Andreas Bjone"
   ]
  },
  {
   "cell_type": "markdown",
   "metadata": {},
   "source": [
    "**Oppgave 1**"
   ]
  },
  {
   "cell_type": "markdown",
   "metadata": {},
   "source": [
    "1) \n",
    "Vi har en diatomisk ideell gass med 5 degrees of freedom. En diatomisk gass kan sees på som 5 degrees of freedom ved lave temperaturer fordi vibrasjon, twisting, flexing og stretching har et neglisjerbart bidrag til den termiske energien. \n",
    "\n",
    "En ideell gass er en tilnærming som er gyldig i gasser med lav tetthet, der gjennomsnittlig avstand mellom molekylene er mye større enn størrelsen på molekylene (eks. luft i romtemperatur).\n",
    "\n",
    "Equipartion theoremet som gjelder ved ideell gass sier at ved en temperatur $T$ er den gjennomsnittlige energien av hver kvadratiske degree of freedom $1/2k_B T$, der $k_B$ er botzmanns konstant og $T$ er temperaturen.\n",
    "\n",
    "Vi har $f=5$ degrees of freedom slik at den midlere energien for hvert molekyl blir $f\\frac{1}{2}k_B T$. Og får da med $N$ molekyler at den totale termiske energien $U_{thermal}=Nf\\frac{1}{2}k_B T=N\\frac{5}{2}k_B T$.\n",
    "\n",
    "Vi har at varmekapasiteten $C=Q/\\Delta T$ (1), der $Q$ er varmeenergien og $\\Delta T$ er endring i temperaturen. Vi har og at enring i termisk energi er $\\Delta U = Q+V$. Vi setter dette inn i (1) og får at $C=\\frac{\\Delta U - W}{\\Delta T}$. Vi har konstant volum, dvs. at det ikke blir gjort noe arbeid på systemet ($W=0$).\n",
    "\n",
    "Da har vi at $C=\\frac{\\Delta U}{\\Delta T}$, vi bruker fysikermatte og får at $C=\\frac{d U}{d T}$(vanlig derivert fordi vi har $N=const$, $f=const$ og $k_B=const$).\n",
    "\n",
    "Får da at $C=\\frac{d}{dT}(N\\frac{5}{2}k_B T)=N\\frac{5}{2}k_B$."
   ]
  },
  {
   "attachments": {
    "bilde.png": {
     "image/png": "[encoded data removed]"
    }
   },
   "cell_type": "markdown",
   "metadata": {},
   "source": [
    "![bilde.png](attachment:bilde.png)"
   ]
  },
  {
   "cell_type": "markdown",
   "metadata": {},
   "source": [
    "2) Fra ideell gass tilnærming har vi at $PV=Nk_BT$, der $P$ er trykket fra en gass i et volum $V$. \n",
    "\n",
    "Skrier om m.h.p. $T$, det gir $T(P,V)=\\frac{PV}{Nk_B}$.\n",
    "\n",
    "Vi har at $U = N\\frac{5}{2}k_BT=\\frac{5}{2}Nk_B\\frac{PV}{Nk_B}=\\frac{5}{2}PV$. \n",
    "\n",
    "\\\n",
    "Definerer $\\Delta V=V_2-V_1$ og $\\Delta P=P_2-P_1$.\n",
    "\n",
    "\\\n",
    "A: Trykket er konstant og volumet endrer seg. $\\Delta V_A = V_1-V_2=-\\Delta V$. \n",
    "\n",
    "$\\Delta U_A = \\frac{5}{2}P_2\\Delta V_A=-\\frac{5}{2}P_2\\Delta V$. \n",
    "\n",
    "\\\n",
    "B: Volumet er konstant og trykket endrer seg. $\\Delta P_B = P_1-P_2=-\\Delta P$. \n",
    "\n",
    "$\\Delta U_B = \\frac{5}{2}V_1\\Delta P_B =-\\frac{5}{2}V_1 \\Delta P$.\n",
    "\n",
    "\\\n",
    "C: Ser da fra geometrien at $\\Delta U_C=-(\\Delta U_A+\\Delta U_B)$. (Og det må være sånn hvis energien skal være bevart).\n",
    "\n",
    "\\\n",
    "For hele prosessen: $\\Delta U=\\Delta U_A+\\Delta U_B+\\Delta U_C=\\Delta U_A+\\Delta U_B-(\\Delta U_A+\\Delta U_B)=0$."
   ]
  },
  {
   "cell_type": "markdown",
   "metadata": {},
   "source": [
    "3) Antar quastatic compression. Dvs. at at kompresjonen skjer sakte nok til at gassmolekylene får spredd seg og gitt likt trykk overalt. Da har vi at arbeidet er $W=-P\\Delta V$.\n",
    "\n",
    "\\\n",
    "A: $W_A=-P_2(V_1-V_2)=P_2\\Delta V$.\n",
    "\n",
    "\n",
    "\\\n",
    "B: $W_B=-P(V_1-V_1)=0$.\n",
    "\n",
    "\\\n",
    "C: Vi har at arbeidet er $W_C=-\\int_{V_1}^{V_2}P(V)dV$, der vi lager en rett linje gjennom C, $P(V)=\\frac{\\Delta P}{\\Delta V}(V-V_1)+P_1$. Om man regner ut integralet får man at $W_C=-\\Delta V\\frac{P_1+P_2}{2}$. (Det har jeg gjort).\n",
    "\n",
    "Men det er like greit å bruke geometrien i oppgaven. Om vi tar arealet av trekanten ABC får vi at $A_{trekant}=\\frac{1}{2}\\Delta V\\Delta P$. \n",
    "\n",
    "Og arealet av rektangel $(V_1,0)$, $(V_1,P_1)$, $(V_2,0)$, $(V_2,P_1)$ blir $A_{firkant}=\\Delta V P_1$.\n",
    "\n",
    "Integralet er jo arealet under grafen og vi vet at arbeidet skal være negativt fordi vi ser at volumet blir større, gassen ekspanderer, gassen gjør arbeid, arbeid er negativt.\n",
    "\n",
    "Da får vi og at $W_C=-(A_{firkant}+A_{trekant})=-(\\Delta V P_1+\\frac{1}{2}\\Delta P\\Delta V)=-\\Delta V(\\frac{1}{2}\\Delta P+P_1)=\\Delta V(P_1+\\frac{1}{2}(P_2-P_1))=-\\Delta V\\frac{P_1+P_2}{2}$."
   ]
  },
  {
   "cell_type": "markdown",
   "metadata": {},
   "source": [
    "4) Vi har at $\\Delta U=Q+W \\Leftrightarrow Q=\\Delta U - W$.\n",
    "\n",
    "\\\n",
    "A: $Q_A=\\Delta U_A-W_A=-\\frac{5}{2}P_2\\Delta V-P_2\\Delta V=-\\frac{7}{2}P_2\\Delta V$.\n",
    "\n",
    "\\\n",
    "B: $Q_B=\\Delta U_B-W_B=-\\frac{5}{2}V_1 \\Delta P$.\n",
    "\n",
    "\\\n",
    "C: $Q_C=\\Delta U_C-W_C=-(\\Delta U_A+\\Delta U_B) -W_C= -(-\\frac{5}{2}P_2\\Delta V+(-\\frac{5}{2}V_1 \\Delta P))-(-\\Delta V\\frac{P_1+P_2}{2})=\\frac{1}{2}(5P_2\\Delta V+5V_1 \\Delta P+\\Delta V(P_1+P_2))$"
   ]
  },
  {
   "cell_type": "markdown",
   "metadata": {},
   "source": [
    "5) For hele syklusen vil $\\Delta U =0$. Dette følger av energibevaring fordi vi havner på samme sted som vi startet.\n",
    "\n",
    "\\\n",
    "$W=W_A+W_B+W_C=P_2\\Delta V-\\Delta V\\frac{P_1+P_2}{2}=\\frac{1}{2}\\Delta V (P_2-P_1)=\\frac{1}{2}\\Delta V\\Delta P$.\n",
    "\n",
    "Ser at arbeidet over hele syklusen er positiv.\n",
    "\n",
    "\\\n",
    "$Q=Q_A+Q_B+Q_C=-\\frac{7}{2}P_2\\Delta V-\\frac{5}{2}V_1 \\Delta P+\\frac{1}{2}(6P_2V_2-6P_1V_1+P_1V_2-P_2V_1)=...=-\\frac{1}{2}\\Delta P\\Delta V$.\n",
    "\n",
    "Heat exchange over hele syklusen er negativ.\n",
    "\n",
    "\\\n",
    "A: Det utføres et arbeid på gassen slik at den sammentrykkes. Temperaturen går ned og gassen gir fra seg varme.\n",
    "\n",
    "\n",
    "\\\n",
    "B: Gassen fortsetter å gi seg varme slik at temperaturen i gassen og trykket fra gassen går ned.\n",
    "\n",
    "\n",
    "\\\n",
    "C: Gassen varmes opp. Trykket og temperaturen øker. Gassen utgjør et arbeid.\n",
    "\n",
    "\\\n",
    "Det er en maskin du gjør arbeid på som gir varme tilbake."
   ]
  },
  {
   "cell_type": "markdown",
   "metadata": {},
   "source": [
    "**Oppgave 2**"
   ]
  },
  {
   "cell_type": "markdown",
   "metadata": {},
   "source": [
    "1) Det er $2^N$ antall microstates fordi hver partikkel har 2 spinmuligheter og det er $N$ partikkler."
   ]
  },
  {
   "cell_type": "markdown",
   "metadata": {},
   "source": [
    "2) $S =\\sum_i^Ns_i$"
   ]
  },
  {
   "cell_type": "markdown",
   "metadata": {},
   "source": [
    "3)"
   ]
  },
  {
   "cell_type": "markdown",
   "metadata": {},
   "source": [
    "4)"
   ]
  },
  {
   "cell_type": "markdown",
   "metadata": {},
   "source": [
    "5)"
   ]
  },
  {
   "cell_type": "markdown",
   "metadata": {},
   "source": [
    "6)"
   ]
  },
  {
   "cell_type": "markdown",
   "metadata": {},
   "source": [
    "7)"
   ]
  }
 ],
 "metadata": {
  "kernelspec": {
   "display_name": "Python 3",
   "language": "python",
   "name": "python3"
  },
  "language_info": {
   "codemirror_mode": {
    "name": "ipython",
    "version": 3
   },
   "file_extension": ".py",
   "mimetype": "text/x-python",
   "name": "python",
   "nbconvert_exporter": "python",
   "pygments_lexer": "ipython3",
   "version": "3.7.1"
  }
 },
 "nbformat": 4,
 "nbformat_minor": 4
}
